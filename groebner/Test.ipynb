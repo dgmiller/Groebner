{
 "cells": [
  {
   "cell_type": "code",
   "execution_count": 3,
   "execution_count": 50,
   "metadata": {
    "collapsed": false
   },
   "outputs": [
    {
     "name": "stdout",
     "output_type": "stream",
     "text": [
      "The autoreload extension is already loaded. To reload it, use:\n",
      "  %reload_ext autoreload\n"
     ]
    }
   ],
   "source": [
    "import groebner_class, multi_power, multi_cheb\n",
    "from multi_cheb import MultiCheb\n",
    "from multi_power import MultiPower\n",
    "from maxheap import Term\n",
    "import numpy as np\n",
    "from scipy.linalg import lu\n",
    "\n",
    "\n",
    "%load_ext autoreload\n",
    "%autoreload 2"
   ]
  },
  {
   "cell_type": "code",
   "execution_count": 4,
   "metadata": {
    "collapsed": false
   },
   "outputs": [],
   "source": [
    "A = MultiCheb(np.array([[1,1],[2,3]]))\n",
    "B = MultiCheb(np.array([[1,1],[3,4]]))\n",
    "C = MultiCheb(np.array([[5,2],[2,4]]))\n",
    "#D = multi_cheb.MultiCheb(np.array([[1,1,1],[2,2,2],[3,3,3]]))"
   ]
  },
  {
   "cell_type": "code",
   "execution_count": 6,
   "metadata": {
    "collapsed": false
   },
   "outputs": [
    {
     "ename": "AttributeError",
     "evalue": "module 'maxheap' has no attribute 'TermOrder'",
     "output_type": "error",
     "traceback": [
      "\u001b[0;31m---------------------------------------------------------------------------\u001b[0m",
      "\u001b[0;31mAttributeError\u001b[0m                            Traceback (most recent call last)",
      "\u001b[0;32m<ipython-input-6-8eaa9ccf0833>\u001b[0m in \u001b[0;36m<module>\u001b[0;34m()\u001b[0m\n\u001b[0;32m----> 1\u001b[0;31m \u001b[0mgrob\u001b[0m \u001b[0;34m=\u001b[0m \u001b[0mgroebner_class\u001b[0m\u001b[0;34m.\u001b[0m\u001b[0mGroebner\u001b[0m\u001b[0;34m(\u001b[0m\u001b[0;34m[\u001b[0m\u001b[0mA\u001b[0m\u001b[0;34m,\u001b[0m\u001b[0mB\u001b[0m\u001b[0;34m,\u001b[0m\u001b[0mC\u001b[0m\u001b[0;34m]\u001b[0m\u001b[0;34m)\u001b[0m\u001b[0;34m\u001b[0m\u001b[0m\n\u001b[0m\u001b[1;32m      2\u001b[0m \u001b[0mgrob\u001b[0m\u001b[0;34m.\u001b[0m\u001b[0madd_s_to_matrix\u001b[0m\u001b[0;34m(\u001b[0m\u001b[0;34m)\u001b[0m\u001b[0;34m\u001b[0m\u001b[0m\n\u001b[1;32m      3\u001b[0m \u001b[0mprint\u001b[0m\u001b[0;34m(\u001b[0m\u001b[0mgrob\u001b[0m\u001b[0;34m.\u001b[0m\u001b[0mnp_matrix\u001b[0m\u001b[0;34m)\u001b[0m\u001b[0;34m\u001b[0m\u001b[0m\n\u001b[1;32m      4\u001b[0m \u001b[0mgrob\u001b[0m\u001b[0;34m.\u001b[0m\u001b[0mcalc_s\u001b[0m\u001b[0;34m(\u001b[0m\u001b[0mA\u001b[0m\u001b[0;34m,\u001b[0m\u001b[0mB\u001b[0m\u001b[0;34m)\u001b[0m\u001b[0;34m.\u001b[0m\u001b[0mcoeff\u001b[0m\u001b[0;34m\u001b[0m\u001b[0m\n",
      "\u001b[0;32m/Users/zacharytaylor/Documents/Work/Groebner_Bases_Rsch/Groebner_Code/groebner/groebner_class.py\u001b[0m in \u001b[0;36m__init__\u001b[0;34m(self, polys)\u001b[0m\n\u001b[1;32m     20\u001b[0m         \u001b[0mself\u001b[0m\u001b[0;34m.\u001b[0m\u001b[0mnew_polys\u001b[0m \u001b[0;34m=\u001b[0m \u001b[0mpolys\u001b[0m\u001b[0;34m\u001b[0m\u001b[0m\n\u001b[1;32m     21\u001b[0m         \u001b[0mself\u001b[0m\u001b[0;34m.\u001b[0m\u001b[0mf_len\u001b[0m \u001b[0;34m=\u001b[0m \u001b[0mlen\u001b[0m\u001b[0;34m(\u001b[0m\u001b[0mpolys\u001b[0m\u001b[0;34m)\u001b[0m\u001b[0;34m\u001b[0m\u001b[0m\n\u001b[0;32m---> 22\u001b[0;31m         \u001b[0mself\u001b[0m\u001b[0;34m.\u001b[0m\u001b[0mlargest_mon\u001b[0m \u001b[0;34m=\u001b[0m \u001b[0mmaxheap\u001b[0m\u001b[0;34m.\u001b[0m\u001b[0mTermOrder\u001b[0m\u001b[0;34m(\u001b[0m\u001b[0mtuple\u001b[0m\u001b[0;34m(\u001b[0m\u001b[0;34m(\u001b[0m\u001b[0;36m0\u001b[0m\u001b[0;34m,\u001b[0m\u001b[0;36m0\u001b[0m\u001b[0;34m)\u001b[0m\u001b[0;34m)\u001b[0m\u001b[0;34m)\u001b[0m\u001b[0;34m\u001b[0m\u001b[0m\n\u001b[0m\u001b[1;32m     23\u001b[0m         \u001b[0mself\u001b[0m\u001b[0;34m.\u001b[0m\u001b[0mnp_matrix\u001b[0m \u001b[0;34m=\u001b[0m \u001b[0mnp\u001b[0m\u001b[0;34m.\u001b[0m\u001b[0mzeros\u001b[0m\u001b[0;34m(\u001b[0m\u001b[0;34m[\u001b[0m\u001b[0;36m0\u001b[0m\u001b[0;34m,\u001b[0m\u001b[0;36m0\u001b[0m\u001b[0;34m]\u001b[0m\u001b[0;34m)\u001b[0m \u001b[0;31m# and this\u001b[0m\u001b[0;34m\u001b[0m\u001b[0m\n\u001b[1;32m     24\u001b[0m         \u001b[0mself\u001b[0m\u001b[0;34m.\u001b[0m\u001b[0mterm_set\u001b[0m \u001b[0;34m=\u001b[0m \u001b[0mset\u001b[0m\u001b[0;34m(\u001b[0m\u001b[0;34m)\u001b[0m\u001b[0;34m\u001b[0m\u001b[0m\n",
      "\u001b[0;31mAttributeError\u001b[0m: module 'maxheap' has no attribute 'TermOrder'"
     ]
    }
   ],
   "source": [
    "grob = groebner_class.Groebner([A,B,C])\n",
    "grob.add_s_to_matrix()\n",
    "print(grob.np_matrix)\n",
    "grob.calc_s(A,B).coeff"
   ]
  },
  {
   "cell_type": "code",
   "execution_count": null,
   "metadata": {
    "collapsed": true
   },
   "outputs": [],
   "source": []
  },
  {
   "cell_type": "code",
   "execution_count": 7,
   "metadata": {
    "collapsed": false,
    "scrolled": true
   },
   "outputs": [
    {
     "ename": "NameError",
     "evalue": "name 'grob' is not defined",
     "output_type": "error",
     "traceback": [
      "\u001b[0;31m---------------------------------------------------------------------------\u001b[0m",
      "\u001b[0;31mNameError\u001b[0m                                 Traceback (most recent call last)",
      "\u001b[0;32m<ipython-input-7-eab2615835c3>\u001b[0m in \u001b[0;36m<module>\u001b[0;34m()\u001b[0m\n\u001b[0;32m----> 1\u001b[0;31m \u001b[0mprint\u001b[0m\u001b[0;34m(\u001b[0m\u001b[0;34m[\u001b[0m\u001b[0mi\u001b[0m\u001b[0;34m.\u001b[0m\u001b[0mval\u001b[0m \u001b[0;32mfor\u001b[0m \u001b[0mi\u001b[0m \u001b[0;32min\u001b[0m \u001b[0mgrob\u001b[0m\u001b[0;34m.\u001b[0m\u001b[0mmatrix_terms\u001b[0m\u001b[0;34m]\u001b[0m\u001b[0;34m)\u001b[0m\u001b[0;34m\u001b[0m\u001b[0m\n\u001b[0m\u001b[1;32m      2\u001b[0m \u001b[0mprint\u001b[0m\u001b[0;34m(\u001b[0m\u001b[0mgrob\u001b[0m\u001b[0;34m.\u001b[0m\u001b[0mnp_matrix\u001b[0m\u001b[0;34m)\u001b[0m\u001b[0;34m\u001b[0m\u001b[0m\n",
      "\u001b[0;31mNameError\u001b[0m: name 'grob' is not defined"
     ]
    }
   ],
   "source": [
    "print([i.val for i in grob.matrix_terms])\n",
    "print(grob.np_matrix)"
   ]
  },
  {
   "cell_type": "code",
   "execution_count": 8,
   "metadata": {
    "collapsed": false
   },
   "outputs": [
    {
     "ename": "NameError",
     "evalue": "name 'grob' is not defined",
     "output_type": "error",
     "traceback": [
      "\u001b[0;31m---------------------------------------------------------------------------\u001b[0m",
      "\u001b[0;31mNameError\u001b[0m                                 Traceback (most recent call last)",
      "\u001b[0;32m<ipython-input-8-82eca2c5537a>\u001b[0m in \u001b[0;36m<module>\u001b[0;34m()\u001b[0m\n\u001b[0;32m----> 1\u001b[0;31m \u001b[0mgrob\u001b[0m\u001b[0;34m.\u001b[0m\u001b[0madd_r_to_matrix\u001b[0m\u001b[0;34m(\u001b[0m\u001b[0;34m)\u001b[0m\u001b[0;34m\u001b[0m\u001b[0m\n\u001b[0m\u001b[1;32m      2\u001b[0m \u001b[0mgrob\u001b[0m\u001b[0;34m.\u001b[0m\u001b[0mnp_matrix\u001b[0m \u001b[0;34m=\u001b[0m \u001b[0mgrob\u001b[0m\u001b[0;34m.\u001b[0m\u001b[0mnp_matrix\u001b[0m\u001b[0;34m.\u001b[0m\u001b[0mloc\u001b[0m\u001b[0;34m[\u001b[0m\u001b[0;34m:\u001b[0m\u001b[0;34m,\u001b[0m \u001b[0;34m(\u001b[0m\u001b[0mgrob\u001b[0m\u001b[0;34m.\u001b[0m\u001b[0mmatrix\u001b[0m \u001b[0;34m!=\u001b[0m \u001b[0;36m0\u001b[0m\u001b[0;34m)\u001b[0m\u001b[0;34m.\u001b[0m\u001b[0many\u001b[0m\u001b[0;34m(\u001b[0m\u001b[0maxis\u001b[0m\u001b[0;34m=\u001b[0m\u001b[0;36m0\u001b[0m\u001b[0;34m)\u001b[0m\u001b[0;34m]\u001b[0m\u001b[0;34m\u001b[0m\u001b[0m\n\u001b[1;32m      3\u001b[0m \u001b[0mprint\u001b[0m\u001b[0;34m(\u001b[0m\u001b[0mgrob\u001b[0m\u001b[0;34m.\u001b[0m\u001b[0mmatrix\u001b[0m\u001b[0;34m)\u001b[0m\u001b[0;34m\u001b[0m\u001b[0m\n\u001b[1;32m      4\u001b[0m \u001b[0;34m\u001b[0m\u001b[0m\n\u001b[1;32m      5\u001b[0m \u001b[0;31m# Reorder correctly\u001b[0m\u001b[0;34m\u001b[0m\u001b[0;34m\u001b[0m\u001b[0m\n",
      "\u001b[0;31mNameError\u001b[0m: name 'grob' is not defined"
     ]
    }
   ],
   "source": [
    "grob.add_r_to_matrix()\n",
    "grob.np_matrix = grob.np_matrix.loc[:, (grob.matrix != 0).any(axis=0)]\n",
    "print(grob.matrix)\n",
    "\n",
    "# Reorder correctly\n",
    "ord_mat = grob.np_matrix[['[2 2]', '[2 1]', '[1 2]', '[2 0]', '[1 1]', '[0 2]','[1 0]', '[0 1]', '[0 0]']]\n",
    "grob_mat = ord_mat.values\n",
    "\n",
    "new_mat_index = ord_mat.columns.values\n",
    "\n",
    "new_mat = np.vstack((grob_mat[3:], grob_mat[:3])) # Put R on top for reduction\n",
    "\n",
    "P,L,U = lu(new_mat)\n",
    "P_argmax = np.argmax(P,axis=0)\n",
    "\n",
    "print(U[-6:])"
   ]
  },
  {
   "cell_type": "code",
   "execution_count": 9,
   "metadata": {
    "collapsed": false
   },
   "outputs": [
    {
     "data": {
      "text/plain": [
       "True"
      ]
     },
     "execution_count": 9,
     "metadata": {},
     "output_type": "execute_result"
    }
   ],
   "source": [
    "import numpy as np\n",
    "T = np.random.rand( 4, 3, 5, 2 )\n",
    "np.allclose( T.flatten( )[ ::-1 ].reshape( T.shape ) , T[ ::-1, ::-1, ::-1, ::-1 ] )"
   ]
  },
  {
   "cell_type": "code",
   "execution_count": 10,
   "execution_count": 51,
   "metadata": {
    "collapsed": false
   },
   "outputs": [],
   "source": [
    "f1 = MultiPower(np.array([[0,-1.5,.5,],[-1.5,1.5,0],[1,0,0,]]))\n",
    "f2 = MultiPower(np.array([[0,0,0],[-1,0,1],[0,0,0]]))\n",
    "f3 = MultiPower(np.array([[0,-1,0,1],[0,0,0,0],[0,0,0,0],[0,0,0,0]]))"
   ]
  },
  {
   "cell_type": "code",
   "execution_count": 11,
   "execution_count": 52,
   "metadata": {
    "collapsed": false
   },
   "outputs": [
    {
     "name": "stdout",
     "output_type": "stream",
     "text": [
      "[[ 0.  -1.5  0.5]\n",
      " [-1.5  1.5  0. ]\n",
      " [ 1.   0.   0. ]]\n",
      "[[ 0  0  0]\n",
      " [-1  0  1]\n",
      " [ 0  0  0]]\n",
      "[[ 0 -1  0  1]\n",
      " [ 0  0  0  0]\n",
      " [ 0  0  0  0]\n",
      " [ 0  0  0  0]]\n"
     ]
    }
   ],
   "source": [
    "print(f1.coeff)\n",
    "print(f2.coeff)\n",
    "print(f3.coeff)"
   ]
  },
  {
   "cell_type": "code",
   "execution_count": 53,
   "metadata": {
    "collapsed": false
   },
   "outputs": [],
   "source": [
    "poly_list = [f1, f2, f3]"
   ]
  },
  {
   "cell_type": "code",
   "execution_count": 70,
   "metadata": {
    "collapsed": false
   },
   "outputs": [],
   "source": [
    "from vector_space import VectorSpace\n",
    "vs = VectorSpace()"
   ]
  },
  {
   "cell_type": "code",
   "execution_count": 12,
   "execution_count": 71,
   "metadata": {
    "collapsed": false
   },
   "outputs": [
    {
     "name": "stdout",
     "output_type": "stream",
     "text": [
      "[(0, 0), (0, 1), (0, 2), (1, 0), (1, 1)]\n"
     ]
    }
   ],
   "source": [
    "print(vs.makeBasis(poly_list))"
   ]
  },
  {
   "cell_type": "code",
   "execution_count": 13,
   "execution_count": 56,
   "metadata": {
    "collapsed": false
   },
   "outputs": [],
   "source": [
    "from itertools import product"
   ]
  },
  {
   "cell_type": "code",
   "execution_count": 64,
   "metadata": {
    "collapsed": false
   },
   "outputs": [
    {
     "name": "stdout",
     "output_type": "stream",
     "text": [
      "(0, 0)\n",
      "(0, 1)\n",
      "(0, 2)\n",
      "(1, 0)\n",
      "(1, 1)\n",
      "(1, 2)\n"
     ]
    }
   ],
   "source": [
    "for i in vs.makeBasis(poly_list): print(i)"
   ]
  },
  {
   "cell_type": "code",
   "execution_count": 14,
   "execution_count": 67,
   "metadata": {
    "collapsed": false
   },
   "outputs": [
    {
     "data": {
      "text/plain": [
       "True"
      ]
     },
     "execution_count": 14,
     "execution_count": 67,
     "metadata": {},
     "output_type": "execute_result"
    }
   ],
   "source": [
    "any(np.subtract((1,0),(1,2)) < 0)"
   ]
  },
  {
   "cell_type": "code",
   "execution_count": 30,
   "metadata": {
    "collapsed": false
   },
   "outputs": [],
   "source": [
    "m1 = set(np.linalg.eigvals([[0,0,0,1],[1,0,0,0],[0,1,0,0],[0,0,1,0]]))\n",
    "my = set(np.linalg.eigvals([[1,0,0,0],[0,1,0,0],[0,0,1,0],[0,0,0,1]]))\n",
    "mx = set(np.linalg.eigvals([[0,0,1,0],[0,0,0,1],[1,0,0,0],[0,1,0,0]]))\n",
    "mxy = set(np.linalg.eigvals([[0,1,0,0],[0,0,1,0],[0,0,0,1],[1,0,0,0]]))"
   ]
  },
  {
   "cell_type": "code",
   "execution_count": 34,
   "metadata": {
    "collapsed": false
   },
   "outputs": [],
   "source": [
    "roots = intersection(m1, my, mx, mxy)"
   ]
  },
  {
   "cell_type": "code",
   "execution_count": 37,
   "metadata": {
    "collapsed": false
   },
   "outputs": [
    {
     "name": "stdout",
     "output_type": "stream",
     "text": [
      "{(8.3266726846886741e-17+0.99999999999999956j), (0.99999999999999989+0j), (8.3266726846886741e-17-0.99999999999999956j), (-1.0000000000000004+0j)}\n",
      "{1.0}\n",
      "{1.0, -1.0}\n",
      "{(8.3266726846886741e-17+0.99999999999999956j), (0.99999999999999989+0j), (8.3266726846886741e-17-0.99999999999999956j), (-1.0000000000000004+0j)}\n"
     ]
    }
   ],
   "source": [
    "print(m1)\n",
    "print(my)\n",
    "print(mx)\n",
    "print(mxy)"
   ]
  },
  {
   "cell_type": "code",
   "execution_count": 45,
   "metadata": {
    "collapsed": false
   },
   "outputs": [],
   "source": [
    "mon_1 = np.zeros((3,3,3))\n",
    "mon_1[0,0,0] = 1\n",
    "mon_x = np.zeros((3,3,3))\n",
    "mon_x[1,0,0] = 1\n",
    "mon_y = np.zeros((3,3,3))\n",
    "mon_y[0,1,0] = 1\n",
    "mon_xy = np.zeros((3,3,3))\n",
    "mon_xy[1,1,0] = 1\n",
    "mon_z = np.zeros((3,3,3))\n",
    "mon_z[0,0,1] = 1\n",
    "mon_z2 = np.zeros((3,3,3))\n",
    "mon_z2[0,0,2] = 1\n",
    "mon_xz = np.zeros((3,3,3))\n",
    "mon_xz[1,0,1] = 1\n",
    "mon_yz = np.zeros((3,3,3))\n",
    "mon_yz[0,1,1] = 1"
   ]
  },
  {
   "cell_type": "code",
   "execution_count": 48,
   "metadata": {
    "collapsed": true
   },
   "outputs": [],
   "source": [
    "from multi_power import MultiPower\n",
    "basis = [MultiPower(mon_1), MultiPower(mon_x), MultiPower(mon_y), MultiPower(mon_xy), \n",
    "         MultiPower(mon_z), MultiPower(mon_z2), MultiPower(mon_xz), MultiPower(mon_yz)]"
   ]
  },
  {
   "cell_type": "code",
   "execution_count": null,
   "metadata": {
    "collapsed": true
   },
   "outputs": [],
   "source": [
    "def getOperatorMatrix(poly, basis):\n",
    "    for monomial in basis:\n",
    "        "
   ]
  },
  {
   "cell_type": "code",
   "execution_count": null,
   "metadata": {
    "collapsed": true
   },
   "outputs": [],
   "source": []
  }
 ],
 "metadata": {
  "anaconda-cloud": {},
  "kernelspec": {
   "display_name": "Python [Root]",
   "language": "python",
   "name": "Python [Root]"
  },
  "language_info": {
   "codemirror_mode": {
    "name": "ipython",
    "version": 3
   },
   "file_extension": ".py",
   "mimetype": "text/x-python",
   "name": "python",
   "nbconvert_exporter": "python",
   "pygments_lexer": "ipython3",
   "version": "3.5.2"
  }
 },
 "nbformat": 4,
 "nbformat_minor": 2
}
