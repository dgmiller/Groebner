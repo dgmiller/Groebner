{
 "cells": [
  {
   "cell_type": "code",
   "execution_count": 1,
   "metadata": {
    "collapsed": false
   },
   "outputs": [],
   "source": [
    "import groebner, multi_power, multi_cheb\n",
    "from multi_cheb import MultiCheb\n",
    "from maxheap import Term\n",
    "import numpy as np"
   ]
  },
  {
   "cell_type": "code",
   "execution_count": 2,
   "metadata": {
    "collapsed": false
   },
   "outputs": [],
   "source": [
    "%load_ext autoreload\n",
    "%autoreload 2"
   ]
  },
  {
   "cell_type": "code",
   "execution_count": 3,
   "metadata": {
    "collapsed": false
   },
   "outputs": [],
   "source": [
    "A = MultiCheb(np.array([[1,1],[2,3]]))\n",
    "B = MultiCheb(np.array([[1,1],[3,4]]))\n",
    "C = MultiCheb(np.array([[5,2],[2,4]]))\n",
    "#D = multi_cheb.MultiCheb(np.array([[1,1,1],[2,2,2],[3,3,3]]))"
   ]
  },
  {
   "cell_type": "code",
   "execution_count": 4,
   "metadata": {
    "collapsed": false
   },
   "outputs": [
    {
     "name": "stdout",
     "output_type": "stream",
     "text": [
      "[[ 4.  2.  2.  5.]\n",
      " [ 4.  3.  1.  1.]\n",
      " [ 3.  2.  1.  1.]]\n",
      "   [0 0]  [0 1]  [0 2]  [1 0]  [1 1]  [1 2]  [2 0]  [2 1]  [2 2]\n",
      "0    1.0    1.0    0.0    2.0    3.0    0.0    0.0    0.0    0.0\n",
      "0    1.0    1.0    0.0    3.0    4.0    0.0    0.0    0.0    0.0\n",
      "0    5.0    2.0    0.0    2.0    4.0    0.0    0.0    0.0    0.0\n",
      "0    0.0    0.0    0.0    0.0    0.0    0.0    0.0    0.0    0.0\n",
      "0    0.0    0.0    0.0    0.0    0.0    0.0    0.0    0.0    0.0\n",
      "0    0.0    0.0    0.0    0.0    0.0    0.0    0.0    0.0    0.0\n"
     ]
    }
   ],
   "source": [
    "grob = groebner.Groebner([A,B,C])\n",
    "grob.add_s_to_matrix()\n",
    "print(grob.matrix)\n"
   ]
  },
  {
   "cell_type": "code",
   "execution_count": 5,
   "metadata": {
    "collapsed": false
   },
   "outputs": [
    {
     "name": "stdout",
     "output_type": "stream",
     "text": [
      "[[ 4.  2.  2.  5.]\n",
      " [ 4.  3.  1.  1.]\n",
      " [ 3.  2.  1.  1.]]\n",
      "(1, 1)\n",
      "(1, 0)\n",
      "(0, 1)\n",
      "(0, 0)\n"
     ]
    }
   ],
   "source": [
    "print(grob.np_matrix)\n",
    "for i in grob.matrix_terms:\n",
    "    print(i.val)"
   ]
  },
  {
   "cell_type": "code",
   "execution_count": 6,
   "metadata": {
    "collapsed": false
   },
   "outputs": [
    {
     "name": "stdout",
     "output_type": "stream",
     "text": [
      "{(0, 1), (1, 2), (0, 0), (0, 2), (2, 1), (2, 0), (2, 2), (1, 0), (1, 1)}\n"
     ]
    }
   ],
   "source": [
    "print(grob.term_set)"
   ]
  },
  {
   "cell_type": "code",
   "execution_count": 7,
   "metadata": {
    "collapsed": true
   },
   "outputs": [],
   "source": [
    "def _build_matrix(self):\n",
    "    \"\"\"\n",
    "         #TODO: Fix this to just use numpy arrays. You can sort, using numpy arg sort\n",
    "\n",
    "          returns:\n",
    "          matrix - Pandas DataFrame object with the polynomials indexed\n",
    "          \"\"\"\n",
    "    for poly in self.polys:\n",
    "        #For each polynomial, make a matrix object, and add its column\n",
    "        submatrix = pd.DataFrame()\n",
    "        sub_np = []\n",
    "        for idx in poly.grevlex_gen():\n",
    "            idx_term = maxheap.TermOrder(tuple(idx)) # Used to get an ordering on terms\n",
    "            if not idx_term.val in self.term_set:\n",
    "                self.term_set.add(idx_term.val)\n",
    "                self.label.append(tuple(idx)) # Put the actual tuple of index into a list\n",
    "                submatrix[str(idx)] = pd.Series([poly.coeff[tuple(idx)]])\n",
    "                #Append all submatracies\n",
    "                self.matrix = self.matrix.append(submatrix)\n",
    "        pass\n"
   ]
  },
  {
   "cell_type": "code",
   "execution_count": 8,
   "metadata": {
    "collapsed": false
   },
   "outputs": [
    {
     "name": "stdout",
     "output_type": "stream",
     "text": [
      "<class 'tuple'>\n"
     ]
    }
   ],
   "source": [
    "A = (2,2,2)\n",
    "def f(x):\n",
    "    return x(2)\n",
    "\n",
    "def g(x):\n",
    "    return x**2\n",
    "print(type(A))"
   ]
  },
  {
   "cell_type": "code",
   "execution_count": 9,
   "metadata": {
    "collapsed": false
   },
   "outputs": [
    {
     "name": "stdout",
     "output_type": "stream",
     "text": [
      "<class 'function'>\n"
     ]
    }
   ],
   "source": [
    "print(type(f))\n"
   ]
  },
  {
   "cell_type": "code",
   "execution_count": 10,
   "metadata": {
    "collapsed": false
   },
   "outputs": [
    {
     "data": {
      "text/plain": [
       "4"
      ]
     },
     "execution_count": 10,
     "metadata": {},
     "output_type": "execute_result"
    }
   ],
   "source": [
    "f(g)"
   ]
  },
  {
   "cell_type": "code",
   "execution_count": 11,
   "metadata": {
    "collapsed": false
   },
   "outputs": [
    {
     "data": {
      "text/plain": [
       "array([  0.,   1.,   4.,   9.,  16.,  25.,  36.,  49.,  64.,  81.])"
      ]
     },
     "execution_count": 11,
     "metadata": {},
     "output_type": "execute_result"
    }
   ],
   "source": [
    "import numpy as np\n",
    "a = np.linspace(0,9,10)\n",
    "g(a)\n",
    "\n"
   ]
  },
  {
   "cell_type": "code",
   "execution_count": 12,
   "metadata": {
    "collapsed": false
   },
   "outputs": [
    {
     "name": "stdout",
     "output_type": "stream",
     "text": [
      "[2 2 2]\n",
      "[2 2 1]\n",
      "[2 1 2]\n",
      "[1 2 2]\n",
      "[2 2 0]\n",
      "[2 1 1]\n",
      "[2 0 2]\n",
      "[1 2 1]\n",
      "[1 1 2]\n",
      "[0 2 2]\n",
      "[2 1 0]\n",
      "[2 0 1]\n",
      "[1 2 0]\n",
      "[1 1 1]\n",
      "[1 0 2]\n",
      "[0 2 1]\n",
      "[0 1 2]\n",
      "[2 0 0]\n",
      "[1 1 0]\n",
      "[1 0 1]\n",
      "[0 2 0]\n",
      "[0 1 1]\n",
      "[0 0 2]\n",
      "[1 0 0]\n",
      "[0 1 0]\n",
      "[0 0 1]\n",
      "[0 0 0]\n"
     ]
    }
   ],
   "source": [
    "a = MultiCheb(np.zeros((3,3,3)))\n",
    "for i in a.grevlex_gen():\n",
    "    print(i)"
   ]
  },
  {
   "cell_type": "code",
   "execution_count": null,
   "metadata": {
    "collapsed": true
   },
   "outputs": [],
   "source": []
  }
 ],
 "metadata": {
  "kernelspec": {
   "display_name": "Python 3",
   "language": "python",
   "name": "python3"
  },
  "language_info": {
   "codemirror_mode": {
    "name": "ipython",
    "version": 3
   },
   "file_extension": ".py",
   "mimetype": "text/x-python",
   "name": "python",
   "nbconvert_exporter": "python",
   "pygments_lexer": "ipython3",
   "version": "3.6.0"
  }
 },
 "nbformat": 4,
 "nbformat_minor": 2
}
