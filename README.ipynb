{
 "cells": [
  {
   "cell_type": "markdown",
   "metadata": {},
   "source": [
    "# Groebner"
   ]
  },
  {
   "cell_type": "markdown",
   "metadata": {},
   "source": [
    "### Organization of this Repo"
   ]
  },
  {
   "cell_type": "markdown",
   "metadata": {},
   "source": [
    "Each axis of the tensor of coefficients of a multivariate polynomial are ordered from smallest degree to largest degree. For example, the polynomial $$x^2y^2 + 2x^2y + 3xy + 4x + 5 = 0$$ is represented by the matrix of coefficients\n",
    "```\n",
    "[[5, 4, 0],\n",
    " [0, 3, 2],\n",
    " [0, 0, 1]]\n",
    "```\n",
    "Each row corresponds to $x^0, x^1, x^2, \\dots$ for some fixed degree of $y^n$ and each column corresponding to $y^0, y^1, y^2, \\dots$ for some fixed degree of $x^n$."
   ]
  },
  {
   "cell_type": "markdown",
   "metadata": {},
   "source": [
    "### Solving a System of Polynomial Equations"
   ]
  },
  {
   "cell_type": "markdown",
   "metadata": {},
   "source": [
    "Groebner bases can be used to find solutions to a system of polynomial equations.\n",
    "Unfortunately, computing Groebner bases is known to be unstable due to floating point error propagation.\n",
    "Polynomials in the power basis can be represented by a summation of Chebyshev polynomials, which are good for stable computation.\n",
    "Converting the polynomials to Chebyshev polynomials reduces the error significantly.\n",
    "Here's an example using the code from this repository:\n",
    "\n",
    "*Example*\n",
    "\n",
    "Developed at Brigham Young University 2016-2017"
   ]
  },
  {
   "cell_type": "code",
   "execution_count": null,
   "metadata": {
    "collapsed": true
   },
   "outputs": [],
   "source": []
  }
 ],
 "metadata": {
  "kernelspec": {
   "display_name": "Python 3",
   "language": "python",
   "name": "python3"
  },
  "language_info": {
   "codemirror_mode": {
    "name": "ipython",
    "version": 3
   },
   "file_extension": ".py",
   "mimetype": "text/x-python",
   "name": "python",
   "nbconvert_exporter": "python",
   "pygments_lexer": "ipython3",
   "version": "3.6.0"
  }
 },
 "nbformat": 4,
 "nbformat_minor": 2
}
